{
  "nbformat": 4,
  "nbformat_minor": 0,
  "metadata": {
    "colab": {
      "provenance": []
    },
    "kernelspec": {
      "name": "python3",
      "display_name": "Python 3"
    },
    "language_info": {
      "name": "python"
    }
  },
  "cells": [
    {
      "cell_type": "code",
      "source": [
        "!pip install torchprofile"
      ],
      "metadata": {
        "colab": {
          "base_uri": "https://localhost:8080/"
        },
        "id": "NyCgsBeoE4hI",
        "outputId": "fc70847d-0041-4fe0-f8f8-2e999960503b"
      },
      "execution_count": 10,
      "outputs": [
        {
          "output_type": "stream",
          "name": "stdout",
          "text": [
            "Requirement already satisfied: torchprofile in /usr/local/lib/python3.10/dist-packages (0.0.4)\n",
            "Requirement already satisfied: numpy>=1.14 in /usr/local/lib/python3.10/dist-packages (from torchprofile) (1.25.2)\n",
            "Requirement already satisfied: torch>=1.4 in /usr/local/lib/python3.10/dist-packages (from torchprofile) (2.3.0+cu121)\n",
            "Requirement already satisfied: torchvision>=0.4 in /usr/local/lib/python3.10/dist-packages (from torchprofile) (0.18.0+cu121)\n",
            "Requirement already satisfied: filelock in /usr/local/lib/python3.10/dist-packages (from torch>=1.4->torchprofile) (3.14.0)\n",
            "Requirement already satisfied: typing-extensions>=4.8.0 in /usr/local/lib/python3.10/dist-packages (from torch>=1.4->torchprofile) (4.12.1)\n",
            "Requirement already satisfied: sympy in /usr/local/lib/python3.10/dist-packages (from torch>=1.4->torchprofile) (1.12.1)\n",
            "Requirement already satisfied: networkx in /usr/local/lib/python3.10/dist-packages (from torch>=1.4->torchprofile) (3.3)\n",
            "Requirement already satisfied: jinja2 in /usr/local/lib/python3.10/dist-packages (from torch>=1.4->torchprofile) (3.1.4)\n",
            "Requirement already satisfied: fsspec in /usr/local/lib/python3.10/dist-packages (from torch>=1.4->torchprofile) (2023.6.0)\n",
            "Requirement already satisfied: nvidia-cuda-nvrtc-cu12==12.1.105 in /usr/local/lib/python3.10/dist-packages (from torch>=1.4->torchprofile) (12.1.105)\n",
            "Requirement already satisfied: nvidia-cuda-runtime-cu12==12.1.105 in /usr/local/lib/python3.10/dist-packages (from torch>=1.4->torchprofile) (12.1.105)\n",
            "Requirement already satisfied: nvidia-cuda-cupti-cu12==12.1.105 in /usr/local/lib/python3.10/dist-packages (from torch>=1.4->torchprofile) (12.1.105)\n",
            "Requirement already satisfied: nvidia-cudnn-cu12==8.9.2.26 in /usr/local/lib/python3.10/dist-packages (from torch>=1.4->torchprofile) (8.9.2.26)\n",
            "Requirement already satisfied: nvidia-cublas-cu12==12.1.3.1 in /usr/local/lib/python3.10/dist-packages (from torch>=1.4->torchprofile) (12.1.3.1)\n",
            "Requirement already satisfied: nvidia-cufft-cu12==11.0.2.54 in /usr/local/lib/python3.10/dist-packages (from torch>=1.4->torchprofile) (11.0.2.54)\n",
            "Requirement already satisfied: nvidia-curand-cu12==10.3.2.106 in /usr/local/lib/python3.10/dist-packages (from torch>=1.4->torchprofile) (10.3.2.106)\n",
            "Requirement already satisfied: nvidia-cusolver-cu12==11.4.5.107 in /usr/local/lib/python3.10/dist-packages (from torch>=1.4->torchprofile) (11.4.5.107)\n",
            "Requirement already satisfied: nvidia-cusparse-cu12==12.1.0.106 in /usr/local/lib/python3.10/dist-packages (from torch>=1.4->torchprofile) (12.1.0.106)\n",
            "Requirement already satisfied: nvidia-nccl-cu12==2.20.5 in /usr/local/lib/python3.10/dist-packages (from torch>=1.4->torchprofile) (2.20.5)\n",
            "Requirement already satisfied: nvidia-nvtx-cu12==12.1.105 in /usr/local/lib/python3.10/dist-packages (from torch>=1.4->torchprofile) (12.1.105)\n",
            "Requirement already satisfied: triton==2.3.0 in /usr/local/lib/python3.10/dist-packages (from torch>=1.4->torchprofile) (2.3.0)\n",
            "Requirement already satisfied: nvidia-nvjitlink-cu12 in /usr/local/lib/python3.10/dist-packages (from nvidia-cusolver-cu12==11.4.5.107->torch>=1.4->torchprofile) (12.5.40)\n",
            "Requirement already satisfied: pillow!=8.3.*,>=5.3.0 in /usr/local/lib/python3.10/dist-packages (from torchvision>=0.4->torchprofile) (9.4.0)\n",
            "Requirement already satisfied: MarkupSafe>=2.0 in /usr/local/lib/python3.10/dist-packages (from jinja2->torch>=1.4->torchprofile) (2.1.5)\n",
            "Requirement already satisfied: mpmath<1.4.0,>=1.1.0 in /usr/local/lib/python3.10/dist-packages (from sympy->torch>=1.4->torchprofile) (1.3.0)\n"
          ]
        }
      ]
    },
    {
      "cell_type": "code",
      "execution_count": 17,
      "metadata": {
        "id": "NonT2r_8Di0I"
      },
      "outputs": [],
      "source": [
        "import torch\n",
        "import torch.nn as nn\n",
        "import torch.nn.functional as F\n",
        "import torchprofile\n",
        "\n",
        "class Net(nn.Module):\n",
        "    def __init__(self):\n",
        "        super().__init__()\n",
        "        self.conv1 = nn.Conv2d(3, 6, 5)\n",
        "        self.pool = nn.MaxPool2d(2, 2)\n",
        "        self.conv2 = nn.Conv2d(6, 16, 5)\n",
        "        self.fc1 = nn.Linear(16 * 5 * 5, 120)\n",
        "        self.fc2 = nn.Linear(120, 84)\n",
        "        self.fc3 = nn.Linear(84, 10)\n",
        "\n",
        "    def forward(self, x):\n",
        "        x = self.pool(F.relu(self.conv1(x)))\n",
        "        x = self.pool(F.relu(self.conv2(x)))\n",
        "        x = torch.flatten(x, 1) # flatten all dimensions except batch\n",
        "        x = F.relu(self.fc1(x))\n",
        "        x = F.relu(self.fc2(x))\n",
        "        x = self.fc3(x)\n",
        "        return x\n",
        "\n",
        "\n",
        "class VGG16(nn.Module):\n",
        "    def __init__(self, num_classes=10):\n",
        "        super(VGG16, self).__init__()\n",
        "        self.layer1 = nn.Sequential(\n",
        "            nn.Conv2d(3, 64, kernel_size=3, stride=1, padding=1),\n",
        "            nn.BatchNorm2d(64),\n",
        "            nn.ReLU())\n",
        "        self.layer2 = nn.Sequential(\n",
        "            nn.Conv2d(64, 64, kernel_size=3, stride=1, padding=1),\n",
        "            nn.BatchNorm2d(64),\n",
        "            nn.ReLU(),\n",
        "            nn.MaxPool2d(kernel_size = 2, stride = 2))\n",
        "        self.layer3 = nn.Sequential(\n",
        "            nn.Conv2d(64, 128, kernel_size=3, stride=1, padding=1),\n",
        "            nn.BatchNorm2d(128),\n",
        "            nn.ReLU())\n",
        "        self.layer4 = nn.Sequential(\n",
        "            nn.Conv2d(128, 128, kernel_size=3, stride=1, padding=1),\n",
        "            nn.BatchNorm2d(128),\n",
        "            nn.ReLU(),\n",
        "            nn.MaxPool2d(kernel_size = 2, stride = 2))\n",
        "        self.layer5 = nn.Sequential(\n",
        "            nn.Conv2d(128, 256, kernel_size=3, stride=1, padding=1),\n",
        "            nn.BatchNorm2d(256),\n",
        "            nn.ReLU())\n",
        "        self.layer6 = nn.Sequential(\n",
        "            nn.Conv2d(256, 256, kernel_size=3, stride=1, padding=1),\n",
        "            nn.BatchNorm2d(256),\n",
        "            nn.ReLU())\n",
        "        self.layer7 = nn.Sequential(\n",
        "            nn.Conv2d(256, 256, kernel_size=3, stride=1, padding=1),\n",
        "            nn.BatchNorm2d(256),\n",
        "            nn.ReLU(),\n",
        "            nn.MaxPool2d(kernel_size = 2, stride = 2))\n",
        "        # self.layer8 = nn.Sequential(\n",
        "        #     nn.Conv2d(256, 512, kernel_size=3, stride=1, padding=1),\n",
        "        #     nn.BatchNorm2d(512),\n",
        "        #     nn.ReLU())\n",
        "        # self.layer9 = nn.Sequential(\n",
        "        #     nn.Conv2d(512, 512, kernel_size=3, stride=1, padding=1),\n",
        "        #     nn.BatchNorm2d(512),\n",
        "        #     nn.ReLU())\n",
        "        # self.layer10 = nn.Sequential(\n",
        "        #     nn.Conv2d(512, 512, kernel_size=3, stride=1, padding=1),\n",
        "        #     nn.BatchNorm2d(512),\n",
        "        #     nn.ReLU(),\n",
        "        #     nn.MaxPool2d(kernel_size = 2, stride = 2))\n",
        "        # self.layer11 = nn.Sequential(\n",
        "        #     nn.Conv2d(512, 512, kernel_size=3, stride=1, padding=1),\n",
        "        #     nn.BatchNorm2d(512),\n",
        "        #     nn.ReLU())\n",
        "        # self.layer12 = nn.Sequential(\n",
        "        #     nn.Conv2d(512, 512, kernel_size=3, stride=1, padding=1),\n",
        "        #     nn.BatchNorm2d(512),\n",
        "        #     nn.ReLU())\n",
        "        # self.layer13 = nn.Sequential(\n",
        "        #     nn.Conv2d(512, 512, kernel_size=3, stride=1, padding=1),\n",
        "        #     nn.BatchNorm2d(512),\n",
        "        #     nn.ReLU(),\n",
        "        #     nn.MaxPool2d(kernel_size = 2, stride = 2))\n",
        "        self.fc = nn.Sequential(\n",
        "            nn.Dropout(0.5),\n",
        "            nn.Linear(4096, 4096),\n",
        "            nn.ReLU())\n",
        "        self.fc1 = nn.Sequential(\n",
        "            nn.Dropout(0.5),\n",
        "            nn.Linear(4096, 4096),\n",
        "            nn.ReLU())\n",
        "        self.fc2= nn.Sequential(\n",
        "            nn.Linear(4096, num_classes))\n",
        "    def forward(self, x):\n",
        "        out = self.layer1(x)\n",
        "        out = self.layer2(out)\n",
        "        out = self.layer3(out)\n",
        "        out = self.layer4(out)\n",
        "        out = self.layer5(out)\n",
        "        out = self.layer6(out)\n",
        "        out = self.layer7(out)\n",
        "        # out = self.layer8(out)\n",
        "        # out = self.layer9(out)\n",
        "        # out = self.layer10(out)\n",
        "        # out = self.layer11(out)\n",
        "        # out = self.layer12(out)\n",
        "        # out = self.layer13(out)\n",
        "        out = out.reshape(out.size(0), -1)\n",
        "        out = self.fc(out)\n",
        "        out = self.fc1(out)\n",
        "        out = self.fc2(out)\n",
        "        return out"
      ]
    },
    {
      "cell_type": "code",
      "source": [
        "net = VGG16()\n",
        "input = torch.randn(1, 3, 32, 32)\n",
        "flops_1 = torchprofile.profile_macs(net, input)\n",
        "flops_1"
      ],
      "metadata": {
        "colab": {
          "base_uri": "https://localhost:8080/"
        },
        "id": "lHXhM-VgDyL4",
        "outputId": "7f83d794-4243-4f33-d5fd-5c94f244be0a"
      },
      "execution_count": 35,
      "outputs": [
        {
          "output_type": "stream",
          "name": "stderr",
          "text": [
            "/usr/local/lib/python3.10/dist-packages/torchprofile/profile.py:22: UserWarning: No handlers found: \"aten::reshape\". Skipped.\n",
            "  warnings.warn('No handlers found: \"{}\". Skipped.'.format(\n"
          ]
        },
        {
          "output_type": "execute_result",
          "data": {
            "text/plain": [
              "224354304"
            ]
          },
          "metadata": {},
          "execution_count": 35
        }
      ]
    },
    {
      "cell_type": "code",
      "source": [
        "def prune_layer(layer,next_layer,batch_norm_layer, sellection_rate, compression):\n",
        "    nk = layer.weight.data.shape[0]\n",
        "    nktbs = round(nk*sellection_rate)\n",
        "    ng = nktbs // compression\n",
        "    ng = max(ng,1)\n",
        "    number_of_kernels_to_be_pruned = nktbs-ng\n",
        "\n",
        "    print(f\"From {nk} sellected {nktbs} filters merged into {ng} groups deleting {number_of_kernels_to_be_pruned}\")\n",
        "    out_channels = layer.out_channels\n",
        "    layer.out_channels = out_channels - number_of_kernels_to_be_pruned\n",
        "    layer.weight = nn.Parameter(layer.weight[:out_channels - number_of_kernels_to_be_pruned])\n",
        "    next_layer.in_channels = layer.out_channels\n",
        "    next_layer.weight = nn.Parameter(next_layer.weight[:, :layer.out_channels, :, :])\n",
        "    if batch_norm_layer is not None:\n",
        "        batch_norm_layer.num_features = layer.out_channels\n",
        "        if batch_norm_layer.running_mean is not None:\n",
        "            batch_norm_layer.running_mean = batch_norm_layer.running_mean[:layer.out_channels]\n",
        "        if batch_norm_layer.running_var is not None:\n",
        "            batch_norm_layer.running_var = batch_norm_layer.running_var[:layer.out_channels]\n",
        "        if batch_norm_layer.weight is not None:\n",
        "            batch_norm_layer.weight = nn.Parameter(batch_norm_layer.weight[:layer.out_channels])\n",
        "        if batch_norm_layer.bias is not None:\n",
        "            batch_norm_layer.bias = nn.Parameter(batch_norm_layer.bias[:layer.out_channels])\n",
        "\n",
        "    if layer.bias is not None:\n",
        "        layer.bias = nn.Parameter(layer.bias[:out_channels - number_of_kernels_to_be_pruned])\n",
        "\n",
        "\n",
        "\n",
        "prune_layer(net.layer1[0], net.layer2[0],net.layer1[1],0.9,6) #75\n",
        "prune_layer(net.layer2[0], net.layer3[0],net.layer2[1],0.9,6)\n",
        "prune_layer(net.layer3[0], net.layer4[0],net.layer3[1],0.9,9) #80\n",
        "prune_layer(net.layer4[0], net.layer5[0],net.layer4[1],0.9,9)\n",
        "prune_layer(net.layer5[0], net.layer6[0],net.layer5[1],0.9,12) #82,5\n",
        "prune_layer(net.layer6[0], net.layer7[0],net.layer6[1],0.9,12)"
      ],
      "metadata": {
        "colab": {
          "base_uri": "https://localhost:8080/"
        },
        "id": "HnNs1SO5GfwM",
        "outputId": "790ba45f-5467-4ede-d5e9-664a54fa2537"
      },
      "execution_count": 36,
      "outputs": [
        {
          "output_type": "stream",
          "name": "stdout",
          "text": [
            "From 64 sellected 58 filters merged into 9 groups deleting 49\n",
            "From 64 sellected 58 filters merged into 9 groups deleting 49\n",
            "From 128 sellected 115 filters merged into 12 groups deleting 103\n",
            "From 128 sellected 115 filters merged into 12 groups deleting 103\n",
            "From 256 sellected 230 filters merged into 19 groups deleting 211\n",
            "From 256 sellected 230 filters merged into 19 groups deleting 211\n"
          ]
        }
      ]
    },
    {
      "cell_type": "code",
      "source": [
        "flops_2 = torchprofile.profile_macs(net, input)\n",
        "flops_2"
      ],
      "metadata": {
        "colab": {
          "base_uri": "https://localhost:8080/"
        },
        "id": "uzvIlEW1Jz4X",
        "outputId": "551e268f-4dfb-488b-d167-efd015aab715"
      },
      "execution_count": 37,
      "outputs": [
        {
          "output_type": "stream",
          "name": "stderr",
          "text": [
            "/usr/local/lib/python3.10/dist-packages/torchprofile/profile.py:22: UserWarning: No handlers found: \"aten::reshape\". Skipped.\n",
            "  warnings.warn('No handlers found: \"{}\". Skipped.'.format(\n"
          ]
        },
        {
          "output_type": "execute_result",
          "data": {
            "text/plain": [
              "46903296"
            ]
          },
          "metadata": {},
          "execution_count": 37
        }
      ]
    },
    {
      "cell_type": "code",
      "source": [
        "flops_2/flops_1"
      ],
      "metadata": {
        "colab": {
          "base_uri": "https://localhost:8080/"
        },
        "id": "nk9yqqLvLNQq",
        "outputId": "da1eb064-a92e-4fdf-ed04-7d0cafb0eec8"
      },
      "execution_count": 38,
      "outputs": [
        {
          "output_type": "execute_result",
          "data": {
            "text/plain": [
              "0.209059042611458"
            ]
          },
          "metadata": {},
          "execution_count": 38
        }
      ]
    }
  ]
}